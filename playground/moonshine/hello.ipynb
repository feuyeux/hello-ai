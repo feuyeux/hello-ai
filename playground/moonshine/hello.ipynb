{
 "cells": [
  {
   "cell_type": "markdown",
   "metadata": {},
   "source": [
    "Hello moonshine\n",
    "<!-- https://mp.weixin.qq.com/s/NUjJir93A6RQbEltUR6l-w -->"
   ]
  },
  {
   "cell_type": "code",
   "execution_count": null,
   "metadata": {},
   "outputs": [],
   "source": [
    "# from IPython.display import clear_output\n",
    "# %pip install moonshine\n",
    "# %pip install silero_vad onnxruntime sounddevice tokenizers einops\n",
    "# %pip install onnxruntime-gpu"
   ]
  },
  {
   "cell_type": "code",
   "execution_count": null,
   "metadata": {},
   "outputs": [],
   "source": [
    "# !git clone https://github.com/usefulsensors/moonshine.git\n",
    "\n",
    "# D:\\\\coding\\\\hello-asr\\\\onnx\\\\base\n",
    "# !huggingface-cli download UsefulSensors/moonshine  --local-dir . --local-dir-use-symlinks False\n",
    "# clear_output()"
   ]
  },
  {
   "cell_type": "markdown",
   "metadata": {},
   "source": [
    "使用 onnxruntime 包来运行 Moonshine 模型，不依赖torch"
   ]
  },
  {
   "cell_type": "code",
   "execution_count": 1,
   "metadata": {},
   "outputs": [],
   "source": [
    "import wave\n",
    "import numpy as np\n",
    "import tokenizers"
   ]
  },
  {
   "cell_type": "code",
   "execution_count": 2,
   "metadata": {},
   "outputs": [],
   "source": [
    "from onnx_model import MoonshineOnnxModel"
   ]
  },
  {
   "cell_type": "code",
   "execution_count": 3,
   "metadata": {},
   "outputs": [],
   "source": [
    "model = MoonshineOnnxModel(models_dir=\"D:\\\\coding\\\\hello-asr\\\\onnx\\\\base\")\n",
    "\n",
    "def moonshine_infer(wav_file):\n",
    "    with wave.open(wav_file) as f:\n",
    "        params = f.getparams()\n",
    "        assert (\n",
    "            params.nchannels == 1\n",
    "            and params.framerate == 16_000\n",
    "            and params.sampwidth == 2\n",
    "        ), f\"wave file should have 1 channel, 16KHz, and int16\"\n",
    "        audio = f.readframes(params.nframes)\n",
    "    audio = np.frombuffer(audio, np.int16) / 32768.0\n",
    "    audio = audio.astype(np.float32)[None, ...]\n",
    "    tokens = model.generate(audio)\n",
    "    tokenizer = tokenizers.Tokenizer.from_file(\n",
    "        \"D:\\\\coding\\\\hello-asr\\\\moonshine\\\\moonshine\\\\assets\\\\tokenizer.json\")\n",
    "    text = tokenizer.decode_batch(tokens)\n",
    "    return text"
   ]
  },
  {
   "cell_type": "code",
   "execution_count": 4,
   "metadata": {},
   "outputs": [
    {
     "data": {
      "text/plain": [
       "['Ever tried ever failed, no matter try again fail again fail better.']"
      ]
     },
     "execution_count": 4,
     "metadata": {},
     "output_type": "execute_result"
    }
   ],
   "source": [
    "wav_file = \"D:\\\\coding\\\\hello-asr\\\\moonshine\\\\moonshine\\\\assets\\\\beckett.wav\"\n",
    "moonshine_infer(wav_file)"
   ]
  },
  {
   "cell_type": "markdown",
   "metadata": {},
   "source": [
    "使用huggingface框架加载Moonshine模型进行asr语音识别"
   ]
  },
  {
   "cell_type": "code",
   "execution_count": 6,
   "metadata": {},
   "outputs": [
    {
     "name": "stdout",
     "output_type": "stream",
     "text": [
      "Ever tried ever failed, no matter try again fail again fail better.\n"
     ]
    }
   ],
   "source": [
    "from transformers import AutoModelForSpeechSeq2Seq, PreTrainedTokenizerFast\n",
    "import torchaudio\n",
    "import torch\n",
    "\n",
    "device = \"cuda:0\" if torch.cuda.is_available() else \"cpu\"\n",
    "model = AutoModelForSpeechSeq2Seq.from_pretrained(\n",
    "    'usefulsensors/moonshine-base', trust_remote_code=True).to(device)\n",
    "tokenizer = PreTrainedTokenizerFast.from_pretrained(\n",
    "    'usefulsensors/moonshine-base')\n",
    "\n",
    "wav_file = \"D:\\\\coding\\\\hello-asr\\\\moonshine\\\\moonshine\\\\assets\\\\beckett.wav\"\n",
    "audio, sr = torchaudio.load(wav_file)\n",
    "if sr != 16000:\n",
    "    audio = torchaudio.functional.resample(audio, sr, 16000)\n",
    "audio = audio.to(device)\n",
    "tokens = model(audio)\n",
    "print(tokenizer.decode(tokens[0], skip_special_tokens=True))"
   ]
  }
 ],
 "metadata": {
  "kernelspec": {
   "display_name": "homl3",
   "language": "python",
   "name": "python3"
  },
  "language_info": {
   "codemirror_mode": {
    "name": "ipython",
    "version": 3
   },
   "file_extension": ".py",
   "mimetype": "text/x-python",
   "name": "python",
   "nbconvert_exporter": "python",
   "pygments_lexer": "ipython3",
   "version": "3.10.14"
  }
 },
 "nbformat": 4,
 "nbformat_minor": 2
}
