{
 "cells": [
  {
   "cell_type": "markdown",
   "metadata": {},
   "source": [
    "https://huggingface.co/docs/transformers/main/zh/installation\n",
    "https://huggingface.co/docs/transformers/main/zh/multilingual"
   ]
  },
  {
   "cell_type": "code",
   "execution_count": 11,
   "metadata": {},
   "outputs": [],
   "source": [
    "from transformers import AutoTokenizer, AutoModelForSeq2SeqLM\n",
    "model = AutoModelForSeq2SeqLM.from_pretrained(\n",
    "    \"facebook/mbart-large-50-many-to-many-mmt\")"
   ]
  },
  {
   "cell_type": "code",
   "execution_count": 22,
   "metadata": {},
   "outputs": [],
   "source": [
    "# 在分词器中设置源语言\n",
    "tokenizer_cn = AutoTokenizer.from_pretrained(\n",
    "    \"facebook/mbart-large-50-many-to-many-mmt\", src_lang=\"zh_CN\")"
   ]
  },
  {
   "cell_type": "code",
   "execution_count": 20,
   "metadata": {},
   "outputs": [],
   "source": [
    "text_cn = \"美国小伙用U盘\""
   ]
  },
  {
   "cell_type": "code",
   "execution_count": 26,
   "metadata": {},
   "outputs": [
    {
     "name": "stdout",
     "output_type": "stream",
     "text": [
      "U-plates for American guys\n"
     ]
    }
   ],
   "source": [
    "# 对文本进行分词\n",
    "encoded_cn = tokenizer_cn(text_cn, return_tensors=\"pt\")"
   ]
  },
  {
   "cell_type": "code",
   "execution_count": null,
   "metadata": {},
   "outputs": [],
   "source": [
    "# MBart 强制将目标语言 id 作为第一个生成的标记，以进行到目标语言的翻译。\n",
    "# 在 generate 方法中将 forced_bos_token_id 设置为 en 以翻译成英语\n",
    "generated_tokens = model.generate(\n",
    "    **encoded_cn,\n",
    "    forced_bos_token_id=tokenizer_cn.lang_code_to_id[\"en_XX\"]\n",
    ")"
   ]
  },
  {
   "cell_type": "code",
   "execution_count": null,
   "metadata": {},
   "outputs": [],
   "source": [
    "translation = tokenizer_cn.batch_decode(\n",
    "    generated_tokens, skip_special_tokens=True)\n",
    "\n",
    "print(translation[0])"
   ]
  }
 ],
 "metadata": {
  "kernelspec": {
   "display_name": "trans_env",
   "language": "python",
   "name": "python3"
  },
  "language_info": {
   "codemirror_mode": {
    "name": "ipython",
    "version": 3
   },
   "file_extension": ".py",
   "mimetype": "text/x-python",
   "name": "python",
   "nbconvert_exporter": "python",
   "pygments_lexer": "ipython3",
   "version": "3.11.6"
  }
 },
 "nbformat": 4,
 "nbformat_minor": 2
}
