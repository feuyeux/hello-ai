{
 "cells": [
  {
   "cell_type": "code",
   "execution_count": 1,
   "id": "830f3d9d-4e76-4246-a873-c16424008835",
   "metadata": {},
   "outputs": [
    {
     "name": "stdout",
     "output_type": "stream",
     "text": [
      "cuda\n"
     ]
    }
   ],
   "source": [
    "import torch\n",
    "import torch.nn as nn\n",
    "from torch.nn import functional as F\n",
    "# \n",
    "block_size = 8\n",
    "batch_size = 4\n",
    "max_iters = 1000\n",
    "# eval_interval = 2500\n",
    "learning_rate = 3e-4\n",
    "eval_iters = 250\n",
    "# \n",
    "device = 'cuda' if torch.cuda.is_available() else 'cpu'\n",
    "print(device)"
   ]
  },
  {
   "cell_type": "code",
   "execution_count": 3,
   "id": "12a02558-b43c-4d67-9f93-515da88d38c3",
   "metadata": {},
   "outputs": [],
   "source": [
    "with open('wizard_of_oz.txt', 'r', encoding='utf-8') as f:\n",
    "    text = f.read()\n",
    "chars = sorted(set(text))\n",
    "\n",
    "string_to_int = { ch:i for i,ch in enumerate(chars) }\n",
    "int_to_string = { i:ch for i,ch in enumerate(chars) }\n",
    "\n",
    "encode = lambda s: [string_to_int[c] for c in s]\n",
    "decode = lambda l: ''.join([int_to_string[i] for i in l])\n",
    "\n",
    "data = torch.tensor(encode(text), dtype=torch.long)"
   ]
  },
  {
   "cell_type": "code",
   "execution_count": 6,
   "id": "e2ad7786-a60c-421a-8314-3e92387917dc",
   "metadata": {},
   "outputs": [
    {
     "name": "stdout",
     "output_type": "stream",
     "text": [
      "inputs:\n",
      "tensor([[72,  1, 54, 67, 57,  1, 59, 62],\n",
      "        [58, 57,  1, 54,  1, 73, 61, 62],\n",
      "        [59, 62, 71, 72, 73,  1, 73, 61],\n",
      "        [68, 71, 71, 78,  9,  3,  1, 28]])\n",
      "targets:\n",
      "tensor([[ 1, 54, 67, 57,  1, 59, 62, 72],\n",
      "        [57,  1, 54,  1, 73, 61, 62, 71],\n",
      "        [62, 71, 72, 73,  1, 73, 61, 62],\n",
      "        [71, 71, 78,  9,  3,  1, 28, 68]])\n"
     ]
    }
   ],
   "source": [
    "n = int(0.8*len(data))\n",
    "train_data = data[:n]\n",
    "val_data = data[n:]\n",
    "\n",
    "def get_batch(split):\n",
    "    data = train_data if split == 'train' else val_data\n",
    "    ix = torch.randint(len(data) - block_size, (batch_size,))\n",
    "    x = torch.stack([data[i:i+block_size] for i in ix])\n",
    "    y = torch.stack([data[i+1:i+block_size+1] for i in ix])\n",
    "    x, y = x.to(device), y.to(device)\n",
    "    return x, y\n",
    "\n",
    "x, y = get_batch('train')\n",
    "print('inputs:')\n",
    "# print(x.shape)\n",
    "print(x)\n",
    "print('targets:')\n",
    "print(y)"
   ]
  },
  {
   "cell_type": "code",
   "execution_count": 7,
   "id": "a2534cb4-cfbf-48b2-9c1f-9e40b7fa840a",
   "metadata": {},
   "outputs": [
    {
     "name": "stdout",
     "output_type": "stream",
     "text": [
      "tensor([0.0900, 0.2447, 0.6652])\n"
     ]
    }
   ],
   "source": [
    "tensor1=torch.tensor([1.0,2.0,3.0])\n",
    "softmax_output=F.softmax(tensor1,dim=0)\n",
    "print(softmax_output)"
   ]
  },
  {
   "cell_type": "code",
   "execution_count": 10,
   "id": "393b9119-efb4-4834-b86c-b0ceaa5ee391",
   "metadata": {},
   "outputs": [
    {
     "name": "stdout",
     "output_type": "stream",
     "text": [
      "\n",
      ";m(Lvvs﻿c5Y'tx6YmMi9_Q:f-m﻿pGA79bxq7s&ALY'I5Zb*Y67!Kc0,[j:Cih﻿tm'osyFYHsMwGj'6-N\"c'US[ql1f-4j'u﻿emyWhmmkqBFDg0FeAfIavZg3o:50x6-;k*tZm\"6OBO3﻿M!f.DoWT-IP[JailD﻿FGqy!0L\n",
      "KvE1E4H&b_k H5u:S_5ZQbi8P;5,c5Xqs0DAw9]P&,Fi Ox_\"**t\n",
      "LtDXMwhE8v-AyTYdFDB.Y4,7J*ldv,F .pYS39Dj6Nhpb_dEq4DMP)1cY47Vr-]z5ZUsLz'OORb_kbHiXp68bEgxLqlt_oOJaaVLUTCxv:T8F.g7))yUb9dV,[&1s&vUkQ0xTSXxG1c? 5k98j.hUSWq07tsr 58IRswOH]bk]vHkdwr0bWoZ&uj)2l69LZOJYEp!:'[oI2PT0X9d37MJdCxvsOBW)[!C0!B1eyiDmElJi 5333dFwiNLV?SdHPZ'[&BqjG7)19ThqN)m﻿9OKiC5d\n"
     ]
    }
   ],
   "source": [
    "class BigramLanguageModel(nn.Module):\n",
    "    def __init__(self, vocab_size):\n",
    "        super().__init__()\n",
    "        self.token_embedding_table = nn.Embedding(vocab_size, vocab_size)\n",
    "        \n",
    "    def forward(self, index, targets=None):\n",
    "        logits = self.token_embedding_table(index)\n",
    "        \n",
    "        \n",
    "        if targets is None:\n",
    "            loss = None\n",
    "        else:\n",
    "            B, T, C = logits.shape\n",
    "            logits = logits.view(B*T, C)\n",
    "            targets = targets.view(B*T)\n",
    "            loss = F.cross_entropy(logits, targets)\n",
    "        \n",
    "        return logits, loss\n",
    "    \n",
    "    def generate(self, index, max_new_tokens):\n",
    "        # index is (B, T) array of indices in the current context\n",
    "        for _ in range(max_new_tokens):\n",
    "            # get the predictions\n",
    "            logits, loss = self.forward(index)\n",
    "            # focus only on the last time step\n",
    "            logits = logits[:, -1, :] # becomes (B, C)\n",
    "            # apply softmax to get probabilities\n",
    "            probs = F.softmax(logits, dim=-1) # (B, C)\n",
    "            # sample from the distribution\n",
    "            index_next = torch.multinomial(probs, num_samples=1) # (B, 1)\n",
    "            # append sampled index to the running sequence\n",
    "            index = torch.cat((index, index_next), dim=1) # (B, T+1)\n",
    "        return index\n",
    "\n",
    "model = BigramLanguageModel(vocab_size)\n",
    "m = model.to(device)\n",
    "\n",
    "context = torch.zeros((1,1), dtype=torch.long, device=device)\n",
    "generated_chars = decode(m.generate(context, max_new_tokens=500)[0].tolist())\n",
    "print(generated_chars)"
   ]
  },
  {
   "cell_type": "code",
   "execution_count": 12,
   "id": "db66fc62-d119-42ca-9c6e-b75c10068494",
   "metadata": {},
   "outputs": [
    {
     "name": "stdout",
     "output_type": "stream",
     "text": [
      "step: 0, train loss: 4.851, val loss: 4.847\n",
      "step: 250, train loss: 4.787, val loss: 4.787\n",
      "step: 500, train loss: 4.743, val loss: 4.722\n",
      "step: 750, train loss: 4.668, val loss: 4.650\n",
      "4.370579242706299\n"
     ]
    }
   ],
   "source": [
    "@torch.no_grad()\n",
    "def estimate_loss():\n",
    "    out = {}\n",
    "    model.eval()\n",
    "    for split in ['train', 'val']:\n",
    "        losses = torch.zeros(eval_iters)\n",
    "        for k in range(eval_iters):\n",
    "            X, Y = get_batch(split)\n",
    "            logits, loss = model(X, Y)\n",
    "            losses[k] = loss.item()\n",
    "        out[split] = losses.mean()\n",
    "    model.train()\n",
    "    return out\n",
    "\n",
    "optimizer = torch.optim.AdamW(model.parameters(), lr=learning_rate)\n",
    "\n",
    "for iter in range(max_iters):\n",
    "    if iter % eval_iters == 0:\n",
    "        losses = estimate_loss()\n",
    "        print(f\"step: {iter}, train loss: {losses['train']:.3f}, val loss: {losses['val']:.3f}\")\n",
    "\n",
    "    # sample a batch of data\n",
    "    xb, yb = get_batch('train')\n",
    "\n",
    "    # evaluate the loss\n",
    "    logits, loss = model.forward(xb, yb)\n",
    "    optimizer.zero_grad(set_to_none=True)\n",
    "    loss.backward()\n",
    "    optimizer.step()\n",
    "print(loss.item())"
   ]
  },
  {
   "cell_type": "code",
   "execution_count": 19,
   "id": "4e6dd756-4fe3-46f3-8d7d-acfabfde07d3",
   "metadata": {},
   "outputs": [
    {
     "name": "stdout",
     "output_type": "stream",
     "text": [
      "tensor([[1., 1., 1., 1., 1.],\n",
      "        [1., 1., 1., 1., 1.],\n",
      "        [1., 1., 1., 1., 1.],\n",
      "        [1., 1., 1., 1., 1.],\n",
      "        [1., 1., 1., 1., 1.]])\n",
      "tensor([[1., 0., 0., 0., 0.],\n",
      "        [1., 1., 0., 0., 0.],\n",
      "        [1., 1., 1., 0., 0.],\n",
      "        [1., 1., 1., 1., 0.],\n",
      "        [1., 1., 1., 1., 1.]])\n",
      "tensor([[1., 1., 1., 1., 1.],\n",
      "        [0., 1., 1., 1., 1.],\n",
      "        [0., 0., 1., 1., 1.],\n",
      "        [0., 0., 0., 1., 1.],\n",
      "        [0., 0., 0., 0., 1.]])\n",
      "tensor([[0., 0., 0., 0., 0.],\n",
      "        [-inf, 0., 0., 0., 0.],\n",
      "        [-inf, -inf, 0., 0., 0.],\n",
      "        [-inf, -inf, -inf, 0., 0.],\n",
      "        [-inf, -inf, -inf, -inf, 0.]])\n"
     ]
    }
   ],
   "source": [
    "# lookup tril 对角线\n",
    "input_matrix=torch.ones(5,5)\n",
    "print(input_matrix)\n",
    "output_matrix=torch.tril(input_matrix)\n",
    "print(output_matrix)\n",
    "output_matrix=torch.triu(input_matrix)\n",
    "print(output_matrix)\n",
    "# \n",
    "input_matrix_0=torch.zeros(5,5)\n",
    "output=input_matrix_0.masked_fill(output_matrix==0,float('-inf'))\n",
    "print(output)"
   ]
  }
 ],
 "metadata": {
  "kernelspec": {
   "display_name": "Python 3",
   "language": "python",
   "name": "python3"
  },
  "language_info": {
   "codemirror_mode": {
    "name": "ipython",
    "version": 3
   },
   "file_extension": ".py",
   "mimetype": "text/x-python",
   "name": "python",
   "nbconvert_exporter": "python",
   "pygments_lexer": "ipython3",
   "version": "3.11.4"
  }
 },
 "nbformat": 4,
 "nbformat_minor": 5
}
